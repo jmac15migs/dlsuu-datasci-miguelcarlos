{
 "cells": [
  {
   "cell_type": "markdown",
   "metadata": {},
   "source": [
    "## Python Basics Exercise\n",
    "This exercise is designed to test your skills on basic Python programming, `numpy` and `pandas`.\n",
    "\n",
    "Place your answers within the code blocks that have the comment.\n",
    "\n",
    "```python\n",
    "# your code here\n",
    "```\n",
    "\n",
    "Make sure to remove or comment the line below to be able to proceed. It's only placed there as a reminder that the function has not yet been implemented.\n",
    "```python\n",
    "raise NotImplementedError\n",
    "```\n",
    "\n",
    "## Note on \"test scripts\"\n",
    "\n",
    "The code bloock following the function definition are \"unit tests\" which are code blocks which test if the function you implemented is correct or not. It will not print an output **if the conditions are met** (meaning the answer is correct). The current output for \"Exercise 1\" shows an example of when the code is correct and there's no errors, while the output for \"Exercise 2\" shows an example of what it would look like if something is incorrect.\n",
    "\n",
    "---"
   ]
  },
  {
   "cell_type": "code",
   "execution_count": 32,
   "metadata": {},
   "outputs": [],
   "source": [
    "# Place your imports here\n",
    "import numpy as np\n",
    "import pandas as pd"
   ]
  },
  {
   "cell_type": "markdown",
   "metadata": {},
   "source": [
    "**Exercise 1.** Create a function that generates a list containing values from 0 to n-1. **(1 pt.)**"
   ]
  },
  {
   "cell_type": "code",
   "execution_count": 2,
   "metadata": {},
   "outputs": [],
   "source": [
    "def exercise_1 (a):\n",
    "    return range (0,a)"
   ]
  },
  {
   "cell_type": "code",
   "execution_count": null,
   "metadata": {},
   "outputs": [],
   "source": [
    "# these are test scripts\n",
    "ans = exercise_1(5)\n",
    "assert ans==[0, 1, 2, 3, 4]\n",
    "\n",
    "ans = exercise_1(25)\n",
    "assert ans==[0, 1, 2, 3, 4, 5, 6, 7, 8, 9, 10, 11, 12, 13, 14, 15, 16, 17, 18, 19, 20, 21, 22, 23, 24]"
   ]
  },
  {
   "cell_type": "markdown",
   "metadata": {},
   "source": [
    "**Exercise 2.** Create a function that turns the list into a numpy array **(1 pt.)**"
   ]
  },
  {
   "cell_type": "code",
   "execution_count": 3,
   "metadata": {},
   "outputs": [],
   "source": [
    "def exercise_2(a):\n",
    "    return np.arange(a)"
   ]
  },
  {
   "cell_type": "code",
   "execution_count": null,
   "metadata": {},
   "outputs": [],
   "source": [
    "ans = exercise_2([0, 1, 2, 3, 4])\n",
    "assert (ans==np.arange(5)).sum()==5\n",
    "\n",
    "ans = exercise_2(exercise_1(5))\n",
    "assert (ans==np.arange(5)).sum()==5\n",
    "\n",
    "ans = exercise_2(exercise_1(25))\n",
    "assert (ans==np.arange(25)).sum()==25"
   ]
  },
  {
   "cell_type": "markdown",
   "metadata": {},
   "source": [
    "**Exercise 3.** Create a function that accepts 2 parameters: \n",
    " - nums - a list of integer\n",
    " - n - a single integer number\n",
    " \n",
    "The function adds n to all the numbers in nums.\n",
    "\n",
    "**(1 pt.)**"
   ]
  },
  {
   "cell_type": "code",
   "execution_count": 4,
   "metadata": {},
   "outputs": [],
   "source": [
    "def exercise_3 (nums, n):\n",
    "    my_nums = np.array (nums)\n",
    "    new_nums = my_nums + n\n",
    "    return new_nums"
   ]
  },
  {
   "cell_type": "code",
   "execution_count": 19,
   "metadata": {
    "collapsed": true,
    "jupyter": {
     "outputs_hidden": true
    }
   },
   "outputs": [
    {
     "ename": "TypeError",
     "evalue": "unsupported operand type(s) for -: 'list' and 'int'",
     "output_type": "error",
     "traceback": [
      "\u001b[1;31m---------------------------------------------------------------------------\u001b[0m",
      "\u001b[1;31mTypeError\u001b[0m                                 Traceback (most recent call last)",
      "\u001b[1;32m<ipython-input-19-91eba2bf4ff6>\u001b[0m in \u001b[0;36m<module>\u001b[1;34m\u001b[0m\n\u001b[1;32m----> 1\u001b[1;33m \u001b[0mans\u001b[0m \u001b[1;33m=\u001b[0m \u001b[0mexercise_3\u001b[0m\u001b[1;33m(\u001b[0m\u001b[1;33m[\u001b[0m\u001b[1;36m0\u001b[0m\u001b[1;33m,\u001b[0m \u001b[1;36m1\u001b[0m\u001b[1;33m,\u001b[0m \u001b[1;36m2\u001b[0m\u001b[1;33m,\u001b[0m \u001b[1;36m3\u001b[0m\u001b[1;33m,\u001b[0m \u001b[1;36m4\u001b[0m\u001b[1;33m]\u001b[0m\u001b[1;33m,\u001b[0m \u001b[1;36m20\u001b[0m\u001b[1;33m)\u001b[0m\u001b[1;33m\u001b[0m\u001b[1;33m\u001b[0m\u001b[0m\n\u001b[0m\u001b[0;32m      2\u001b[0m \u001b[1;32massert\u001b[0m \u001b[1;33m(\u001b[0m\u001b[0mans\u001b[0m\u001b[1;33m==\u001b[0m\u001b[0mnp\u001b[0m\u001b[1;33m.\u001b[0m\u001b[0marange\u001b[0m\u001b[1;33m(\u001b[0m\u001b[1;36m20\u001b[0m\u001b[1;33m,\u001b[0m \u001b[1;36m25\u001b[0m\u001b[1;33m)\u001b[0m\u001b[1;33m)\u001b[0m\u001b[1;33m.\u001b[0m\u001b[0msum\u001b[0m\u001b[1;33m(\u001b[0m\u001b[1;33m)\u001b[0m\u001b[1;33m==\u001b[0m\u001b[1;36m5\u001b[0m\u001b[1;33m\u001b[0m\u001b[1;33m\u001b[0m\u001b[0m\n\u001b[0;32m      3\u001b[0m \u001b[1;33m\u001b[0m\u001b[0m\n\u001b[0;32m      4\u001b[0m \u001b[0mans\u001b[0m \u001b[1;33m=\u001b[0m \u001b[0mexercise_3\u001b[0m\u001b[1;33m(\u001b[0m\u001b[1;33m[\u001b[0m\u001b[1;36m0\u001b[0m\u001b[1;33m,\u001b[0m \u001b[1;36m1\u001b[0m\u001b[1;33m,\u001b[0m \u001b[1;36m2\u001b[0m\u001b[1;33m]\u001b[0m\u001b[1;33m,\u001b[0m \u001b[1;36m60\u001b[0m\u001b[1;33m)\u001b[0m\u001b[1;33m\u001b[0m\u001b[1;33m\u001b[0m\u001b[0m\n\u001b[0;32m      5\u001b[0m \u001b[1;32massert\u001b[0m \u001b[1;33m(\u001b[0m\u001b[0mans\u001b[0m\u001b[1;33m==\u001b[0m\u001b[0mnp\u001b[0m\u001b[1;33m.\u001b[0m\u001b[0marange\u001b[0m\u001b[1;33m(\u001b[0m\u001b[1;36m60\u001b[0m\u001b[1;33m,\u001b[0m \u001b[1;36m63\u001b[0m\u001b[1;33m)\u001b[0m\u001b[1;33m)\u001b[0m\u001b[1;33m.\u001b[0m\u001b[0msum\u001b[0m\u001b[1;33m(\u001b[0m\u001b[1;33m)\u001b[0m\u001b[1;33m==\u001b[0m\u001b[1;36m3\u001b[0m\u001b[1;33m\u001b[0m\u001b[1;33m\u001b[0m\u001b[0m\n",
      "\u001b[1;32m<ipython-input-8-d22c3079b00f>\u001b[0m in \u001b[0;36mexercise_3\u001b[1;34m(nums, n)\u001b[0m\n\u001b[0;32m      1\u001b[0m \u001b[1;32mdef\u001b[0m \u001b[0mexercise_3\u001b[0m\u001b[1;33m(\u001b[0m\u001b[0mnums\u001b[0m\u001b[1;33m,\u001b[0m \u001b[0mn\u001b[0m\u001b[1;33m)\u001b[0m\u001b[1;33m:\u001b[0m\u001b[1;33m\u001b[0m\u001b[1;33m\u001b[0m\u001b[0m\n\u001b[1;32m----> 2\u001b[1;33m     \u001b[0mmy_list\u001b[0m \u001b[1;33m=\u001b[0m \u001b[0mnp\u001b[0m\u001b[1;33m.\u001b[0m\u001b[0marange\u001b[0m\u001b[1;33m(\u001b[0m\u001b[0mnums\u001b[0m\u001b[1;33m)\u001b[0m\u001b[1;33m\u001b[0m\u001b[1;33m\u001b[0m\u001b[0m\n\u001b[0m\u001b[0;32m      3\u001b[0m     \u001b[0mmy_n\u001b[0m \u001b[1;33m=\u001b[0m \u001b[0mnp\u001b[0m\u001b[1;33m.\u001b[0m\u001b[0marange\u001b[0m \u001b[1;33m(\u001b[0m\u001b[0mn\u001b[0m\u001b[1;33m)\u001b[0m\u001b[1;33m\u001b[0m\u001b[1;33m\u001b[0m\u001b[0m\n\u001b[0;32m      4\u001b[0m     \u001b[0mone_n\u001b[0m \u001b[1;33m=\u001b[0m \u001b[0mmy_number\u001b[0m \u001b[1;33m[\u001b[0m\u001b[0mn\u001b[0m\u001b[1;33m+\u001b[0m\u001b[1;36m1\u001b[0m\u001b[1;33m]\u001b[0m\u001b[1;33m\u001b[0m\u001b[1;33m\u001b[0m\u001b[0m\n\u001b[0;32m      5\u001b[0m     \u001b[1;32mreturn\u001b[0m \u001b[0mmy_list\u001b[0m \u001b[1;33m+\u001b[0m \u001b[0mone_n\u001b[0m\u001b[1;33m\u001b[0m\u001b[1;33m\u001b[0m\u001b[0m\n",
      "\u001b[1;31mTypeError\u001b[0m: unsupported operand type(s) for -: 'list' and 'int'"
     ]
    }
   ],
   "source": [
    "ans = exercise_3([0, 1, 2, 3, 4], 20)\n",
    "assert (ans==np.arange(20, 25)).sum()==5\n",
    "\n",
    "ans = exercise_3([0, 1, 2], 60)\n",
    "assert (ans==np.arange(60, 63)).sum()==3"
   ]
  },
  {
   "cell_type": "markdown",
   "metadata": {},
   "source": [
    "**Exercise 4.** Create a function that accepts a list of numbers as input and returns the first number that has a number with a lower value after it than the number preceding (before) it. If there is none, return `None`.\n",
    " \n",
    "**(2 pts.)**"
   ]
  },
  {
   "cell_type": "code",
   "execution_count": 7,
   "metadata": {},
   "outputs": [],
   "source": [
    "def exercise_4(nums):\n",
    "    my_nums = np.array (nums)\n",
    "    x = my_nums.index (i)\n",
    "    for i in my_nums:\n",
    "        if my_nums[x-1] > my_nums[x+1]:\n",
    "            break\n",
    "            return x\n",
    "        elif my_nums [x-1] <= my_nums [x+1]:\n",
    "                continue\n",
    "        else:\n",
    "            return print('None')"
   ]
  },
  {
   "cell_type": "code",
   "execution_count": null,
   "metadata": {},
   "outputs": [],
   "source": [
    "ans = exercise_4([0.79, 4, 11.8, 99])\n",
    "assert ans==None\n",
    "\n",
    "ans = exercise_4([0.79, 4, 11.8, 99, 0.4, 76, 55, 66])\n",
    "assert ans==0.4\n",
    "\n",
    "ans = exercise_4([0.79, 4, 4, 11.0, 11, -10, -11, 12])\n",
    "assert ans==-10"
   ]
  },
  {
   "cell_type": "markdown",
   "metadata": {},
   "source": [
    "**Exercise 5.** Create a function that returns a list of prime factors of a number.\n",
    "\n",
    "**(2 pts.)**"
   ]
  },
  {
   "cell_type": "code",
   "execution_count": 18,
   "metadata": {},
   "outputs": [],
   "source": [
    "def exercise_5(n):\n",
    "    pfactors = []\n",
    "    factors = range (2, n/2)\n",
    "    for p in factors:\n",
    "        if (n % p) == 0:    \n",
    "            pfactors.append (p)\n",
    "    return my_primes"
   ]
  },
  {
   "cell_type": "code",
   "execution_count": null,
   "metadata": {},
   "outputs": [],
   "source": [
    "ans = exercise_5(1)\n",
    "assert ans==[]\n",
    "\n",
    "ans = exercise_5(4)\n",
    "assert ans==[2]\n",
    "\n",
    "ans = exercise_5(1265)\n",
    "assert ans==[5, 11, 23]\n",
    "\n",
    "ans = exercise_5(3674)\n",
    "assert ans==[2, 11, 167]"
   ]
  },
  {
   "cell_type": "markdown",
   "metadata": {},
   "source": [
    "**Exercise 6.** Create a function that has 3 parameters: list of integers (num), integer number (n1), and another integer number (n2). The function will return a list of integers that are multiples of either n1 or n2.\n",
    "\n",
    "**(2 pts.)**"
   ]
  },
  {
   "cell_type": "code",
   "execution_count": 29,
   "metadata": {},
   "outputs": [
    {
     "ename": "SyntaxError",
     "evalue": "invalid syntax (<ipython-input-29-39b43adac1d4>, line 7)",
     "output_type": "error",
     "traceback": [
      "\u001b[1;36m  File \u001b[1;32m\"<ipython-input-29-39b43adac1d4>\"\u001b[1;36m, line \u001b[1;32m7\u001b[0m\n\u001b[1;33m    if i % n1 = 0:\u001b[0m\n\u001b[1;37m              ^\u001b[0m\n\u001b[1;31mSyntaxError\u001b[0m\u001b[1;31m:\u001b[0m invalid syntax\n"
     ]
    }
   ],
   "source": [
    "def exercise_6(nums, n1, n2):\n",
    "    my_list = []\n",
    "    multiples = range (nums)\n",
    "    n1 <= nums\n",
    "    n2 <= nums\n",
    "    for i in multiples:\n",
    "        if i % n1 = 0:\n",
    "            my_list.append (i)\n",
    "        if i % n2 = 0\n",
    "            my_list.append (i)\n",
    "        return my_list"
   ]
  },
  {
   "cell_type": "code",
   "execution_count": null,
   "metadata": {},
   "outputs": [],
   "source": [
    "ans = exercise_6(np.arange(20), 3, 4)\n",
    "assert ans==[3, 4, 6, 8, 9, 12, 15, 16, 18]\n",
    "\n",
    "ans = exercise_6(np.arange(300), 17, 27)\n",
    "assert ans==[17, 27, 34, 51, 54, 68, 81, 85, 102, 108, 119, 135, 136, 153, 162, 170, 187, 189, 204, 216, 221, 238, 243, 255, 270, 272, 289, 297]"
   ]
  },
  {
   "cell_type": "markdown",
   "metadata": {},
   "source": [
    "**Exercise 7.** Create a function that reads the Titanic dataset (`data/train.csv`) and returns the ages (in list form) of first 5 (based on index) female passengers who survived .\n",
    "\n",
    "**(2 pts.)**"
   ]
  },
  {
   "cell_type": "code",
   "execution_count": 34,
   "metadata": {},
   "outputs": [],
   "source": [
    "def exercise_7():\n",
    "    with Zipfile (DATA_DIR + \"titanic.zip\", \"r\") as zip_file:\n",
    "        df = pd.read_csv(zip_file.open('test.csv'))\n",
    "        display(df.head())"
   ]
  },
  {
   "cell_type": "code",
   "execution_count": null,
   "metadata": {},
   "outputs": [],
   "source": [
    "assert exercise_7()==[38, 26, 35, 27, 14]"
   ]
  },
  {
   "cell_type": "markdown",
   "metadata": {},
   "source": [
    "**Exercise 8.** Create a function that reads the Titanic dataset (`data/train.csv`) and returns the average fare of all female passengers who survived and have an age greater than 30. Format the result by rounding up to 2 decimal values. Make sure the data type is float.\n",
    "\n",
    "**(2 pts.)**"
   ]
  },
  {
   "cell_type": "code",
   "execution_count": null,
   "metadata": {},
   "outputs": [],
   "source": [
    "def exercise_8():\n",
    "    # your code here.\n",
    "    raise NotImplementedError"
   ]
  },
  {
   "cell_type": "code",
   "execution_count": null,
   "metadata": {},
   "outputs": [],
   "source": [
    "assert exercise_8()==71.16"
   ]
  }
 ],
 "metadata": {
  "kernelspec": {
   "display_name": "Python 3",
   "language": "python",
   "name": "python3"
  },
  "language_info": {
   "codemirror_mode": {
    "name": "ipython",
    "version": 3
   },
   "file_extension": ".py",
   "mimetype": "text/x-python",
   "name": "python",
   "nbconvert_exporter": "python",
   "pygments_lexer": "ipython3",
   "version": "3.7.7"
  }
 },
 "nbformat": 4,
 "nbformat_minor": 4
}

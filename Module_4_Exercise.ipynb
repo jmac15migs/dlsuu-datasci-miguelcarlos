{
 "cells": [
  {
   "cell_type": "markdown",
   "metadata": {},
   "source": [
    "# Data Visualization Exercise\n",
    "\n",
    "For this exercise, use your creativity and understanding of the different concepts of data visualization.\n",
    "\n",
    "Create a plot (or a series of subplots) from whatever dataset you choose. As much as possible, please choose a dataset of relevance for visual storytelling. Make the plot using `python`. It doesn't matter if you choose to use `matplotlib` or `seaborn`. \n",
    "\n",
    "For the submission:\n",
    "1. Upload the code that generates the plot to your GitHub repository or to Google Classroom (whichever method you're using for submissions).\n",
    "2. Upload a png file of the visualization to Google Classroom and write in the Private Comments the caption for the figure you submitted.\n",
    "3. Make sure to provide the data source in the same folder.\n",
    "\n",
    "Please make an effort to make it a good and compelling graphic. Choose your colors according to the type of data you're visualizing. Make sure to label everything and avoid clutter. \n",
    "\n",
    "As a reference for color choices, you can go to [CARTOColors](https://carto.com/carto-colors/). Simply click on the color map of your choice and it will copy the HEX code of the color."
   ]
  },
  {
   "cell_type": "code",
   "execution_count": 1,
   "metadata": {},
   "outputs": [
    {
     "name": "stdout",
     "output_type": "stream",
     "text": [
      "Populating the interactive namespace from numpy and matplotlib\n"
     ]
    }
   ],
   "source": [
    "import pandas as pd\n",
    "import numpy as np\n",
    "import matplotlib.pyplot as plt\n",
    "import seaborn as sns\n",
    "\n",
    "%pylab inline"
   ]
  },
  {
   "cell_type": "markdown",
   "metadata": {},
   "source": [
    "### Data Source\n",
    "\n",
    "Edit this cell to place the direct link to your data source.\n",
    "\n",
    "You may use the datasets you've downloaded for your project as your submission for this assignment. "
   ]
  },
  {
   "cell_type": "code",
   "execution_count": 2,
   "metadata": {},
   "outputs": [
    {
     "data": {
      "text/html": [
       "<div>\n",
       "<style scoped>\n",
       "    .dataframe tbody tr th:only-of-type {\n",
       "        vertical-align: middle;\n",
       "    }\n",
       "\n",
       "    .dataframe tbody tr th {\n",
       "        vertical-align: top;\n",
       "    }\n",
       "\n",
       "    .dataframe thead th {\n",
       "        text-align: right;\n",
       "    }\n",
       "</style>\n",
       "<table border=\"1\" class=\"dataframe\">\n",
       "  <thead>\n",
       "    <tr style=\"text-align: right;\">\n",
       "      <th></th>\n",
       "      <th>id</th>\n",
       "      <th>date</th>\n",
       "      <th>direction</th>\n",
       "      <th>station</th>\n",
       "      <th>count</th>\n",
       "    </tr>\n",
       "  </thead>\n",
       "  <tbody>\n",
       "    <tr>\n",
       "      <th>0</th>\n",
       "      <td>1</td>\n",
       "      <td>4/1/2011 03:00:00</td>\n",
       "      <td>Entry</td>\n",
       "      <td>North Ave</td>\n",
       "      <td>0.0</td>\n",
       "    </tr>\n",
       "    <tr>\n",
       "      <th>1</th>\n",
       "      <td>2</td>\n",
       "      <td>4/1/2011 03:00:00</td>\n",
       "      <td>Exit</td>\n",
       "      <td>North Ave</td>\n",
       "      <td>0.0</td>\n",
       "    </tr>\n",
       "    <tr>\n",
       "      <th>2</th>\n",
       "      <td>3</td>\n",
       "      <td>4/1/2011 03:00:00</td>\n",
       "      <td>Entry</td>\n",
       "      <td>Quezon Ave</td>\n",
       "      <td>0.0</td>\n",
       "    </tr>\n",
       "    <tr>\n",
       "      <th>3</th>\n",
       "      <td>4</td>\n",
       "      <td>4/1/2011 03:00:00</td>\n",
       "      <td>Exit</td>\n",
       "      <td>Quezon Ave</td>\n",
       "      <td>0.0</td>\n",
       "    </tr>\n",
       "    <tr>\n",
       "      <th>4</th>\n",
       "      <td>5</td>\n",
       "      <td>4/1/2011 03:00:00</td>\n",
       "      <td>Entry</td>\n",
       "      <td>GMA Kamuning</td>\n",
       "      <td>0.0</td>\n",
       "    </tr>\n",
       "  </tbody>\n",
       "</table>\n",
       "</div>"
      ],
      "text/plain": [
       "   id               date direction       station  count\n",
       "0   1  4/1/2011 03:00:00     Entry     North Ave    0.0\n",
       "1   2  4/1/2011 03:00:00      Exit     North Ave    0.0\n",
       "2   3  4/1/2011 03:00:00     Entry    Quezon Ave    0.0\n",
       "3   4  4/1/2011 03:00:00      Exit    Quezon Ave    0.0\n",
       "4   5  4/1/2011 03:00:00     Entry  GMA Kamuning    0.0"
      ]
     },
     "execution_count": 2,
     "metadata": {},
     "output_type": "execute_result"
    }
   ],
   "source": [
    "# Loading the data\n",
    "data = pd.read_csv('MRT_DATASET_2011-2019_reshaped.csv')\n",
    "data.dtypes\n",
    "data.head()"
   ]
  },
  {
   "cell_type": "code",
   "execution_count": 3,
   "metadata": {},
   "outputs": [],
   "source": [
    "# data wrangling\n",
    "data['date']= pd.to_datetime(data['date'])\n",
    "data['year'] = data['date'].dt.year\n",
    "data['month'] = data['date'].dt.month\n",
    "data['day'] = data['date'].dt.day\n",
    "data['dayofweek'] = data['date'].dt.dayofweek\n",
    "data['hourofday'] = data['date'].dt.hour\n",
    "data.head()\n",
    "\n",
    "sep5 = data.query(\"year=='2019' & month=='9' & day=='5' & direction=='Entry'\")\n",
    "sep5 = sep5.groupby(['hourofday'], as_index=False).sum()"
   ]
  },
  {
   "cell_type": "code",
   "execution_count": 4,
   "metadata": {},
   "outputs": [
    {
     "data": {
      "image/png": "[encoded data removed]",
      "text/plain": [
       "<Figure size 1296x432 with 1 Axes>"
      ]
     },
     "metadata": {
      "needs_background": "light"
     },
     "output_type": "display_data"
    }
   ],
   "source": [
    "# visualizing the data\n",
    "textColor = '#3c3c3c'\n",
    "highlightColor = '#3b738f'\n",
    "plt.rcParams['text.color'] = textColor\n",
    "plt.rcParams['axes.labelcolor'] = highlightColor\n",
    "plt.rcParams['xtick.color'] = textColor\n",
    "plt.rcParams['ytick.color'] = textColor\n",
    "\n",
    "fig1 = sep5.plot('hourofday', 'count', kind='bar', figsize=(18,6), color='#1208C5')\n",
    "fig1.set_title('Number of Passengers Entering MRT 3 Stations every Hour: September 5, 2019', fontsize =20, fontweight='bold')\n",
    "fig1.set_xlabel('Hour of the day', fontsize=14).set_visible(False)\n",
    "fig1.set_xlim([3,21])\n",
    "fig1.set_xticklabels(['12 AM','1 AM', '3 AM', '4 AM', '5 AM', '6 AM', '7 AM', '8 AM', '9 AM', '10 AM', '11 AM', '12 NN', \n",
    "                      '1 PM', '2 PM', '3 PM', '4 PM', '5 PM', '6 PM', '7 PM', '8 PM',\n",
    "                        '9 PM', '10 PM', '11 PM'], rotation=0)\n",
    "fig1.set_ylim([0,30000])\n",
    "fig1.set_ylabel('No. of Passengers', fontsize=16)\n",
    "fig1.spines['right'].set_visible(False)\n",
    "fig1.spines['top'].set_visible(False)\n",
    "fig1.legend(fontsize=14).set_visible(False)"
   ]
  },
  {
   "cell_type": "code",
   "execution_count": 5,
   "metadata": {},
   "outputs": [],
   "source": [
    "# Save your figure"
   ]
  },
  {
   "cell_type": "markdown",
   "metadata": {},
   "source": [
    "Caption: This figure shows the aggregate count of passengers entering any station of Metro Manila's Metro Rail Transit (MRT) Line 3 at hourly intervals on September 5, 2019. This chart illustrates the 2 \"peak\" hours of the day -- first, between 7:00 am to 7:59 am, and second, between 5:00 pm to 6:00 pm. At any given hour, close to 10,000 passengers enter MRT 3 stations.  "
   ]
  }
 ],
 "metadata": {
  "kernelspec": {
   "display_name": "Python 3",
   "language": "python",
   "name": "python3"
  },
  "language_info": {
   "codemirror_mode": {
    "name": "ipython",
    "version": 3
   },
   "file_extension": ".py",
   "mimetype": "text/x-python",
   "name": "python",
   "nbconvert_exporter": "python",
   "pygments_lexer": "ipython3",
   "version": "3.7.7"
  }
 },
 "nbformat": 4,
 "nbformat_minor": 4
}
